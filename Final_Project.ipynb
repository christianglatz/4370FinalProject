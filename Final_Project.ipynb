{
 "cells": [
  {
   "cell_type": "code",
   "execution_count": 11,
   "id": "8ea2680b",
   "metadata": {},
   "outputs": [
    {
     "name": "stdout",
     "output_type": "stream",
     "text": [
      "[14.19886596]\n"
     ]
    },
    {
     "name": "stderr",
     "output_type": "stream",
     "text": [
      "/Users/christianrglatz/opt/anaconda3/lib/python3.8/site-packages/ddeint/ddeint.py:145: VisibleDeprecationWarning: Creating an ndarray from ragged nested sequences (which is a list-or-tuple of lists-or-tuples-or ndarrays with different lengths or shapes) is deprecated. If you meant to do this, you must specify 'dtype=object' when creating the ndarray.\n",
      "  return np.array([g(tt[0])] + results)\n"
     ]
    },
    {
     "data": {
      "image/png": "[encoded data removed]",
      "text/plain": [
       "<Figure size 432x288 with 1 Axes>"
      ]
     },
     "metadata": {
      "needs_background": "light"
     },
     "output_type": "display_data"
    }
   ],
   "source": [
    "import numpy as np\n",
    "from ddeint import ddeint\n",
    "from pylab import *\n",
    "\n",
    " \n",
    "theta = 10      # mid-range pupil size\n",
    "Lambda_max = 30 # maximum pupil size\n",
    "Lambda_min = 0  # minimum pupil size\n",
    "n = 10           # Hill coefficient\n",
    "gamma = 5       # gamma\n",
    "alpha = 3     # alpha\n",
    "I = 100         # constant for lumens\n",
    "phi_th = 1     # threshold value for illuminance\n",
    "d = 100         # time delay\n",
    "start = 10      # value for A on the interval (-d,0)\n",
    "\n",
    "# g(A) = theta*pow((Lambda_max+Lambda_min-A(t))/(A(t)-Lambda_min),1/n)\n",
    "# dg/dA = -((theta*Lambda_max)/n)*pow((Lambda_max+Lambda_min-A(t))/(A(t)-Lambda_min),(1-n)/n)*pow((A(t)-Lambda_min),-2)\n",
    "\n",
    "model = lambda A,t :  (1/(-((theta*Lambda_max)/n)*pow((Lambda_max+Lambda_min-A(t))/(A(t)-Lambda_min),(1-n)/n)*pow((A(t)-Lambda_min),-2)))*((gamma*np.log((I*A(t-d))/phi_th))-alpha*theta*pow((Lambda_max+Lambda_min-A(t))/(A(t)-Lambda_min),1/n))\n",
    "g = lambda t:start\n",
    " \n",
    "\n",
    "tt = linspace(0,1000,10000)\n",
    "yy = ddeint(model,g,tt)\n",
    " \n",
    "\n",
    "plot(tt,yy,lw=2)\n",
    "A_eq = yy[9999]\n",
    "print(A_eq)\n",
    "dA_eq = -((theta*Lambda_max)/n)*pow((Lambda_max+Lambda_min-A_eq)/(A_eq-Lambda_min),(1-n)/n)*pow((A_eq-Lambda_min),-2)\n",
    "\n"
   ]
  }
 ],
 "metadata": {
  "kernelspec": {
   "display_name": "Python 3",
   "language": "python",
   "name": "python3"
  },
  "language_info": {
   "codemirror_mode": {
    "name": "ipython",
    "version": 3
   },
   "file_extension": ".py",
   "mimetype": "text/x-python",
   "name": "python",
   "nbconvert_exporter": "python",
   "pygments_lexer": "ipython3",
   "version": "3.8.8"
  }
 },
 "nbformat": 4,
 "nbformat_minor": 5
}
